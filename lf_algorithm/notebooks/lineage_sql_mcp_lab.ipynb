{
 "cells": [
  {
   "cell_type": "code",
   "execution_count": null,
   "metadata": {},
   "outputs": [],
   "source": [
    "from dotenv import load_dotenv\n",
    "from agents import Agent, Runner, trace\n",
    "from agents.mcp import MCPServerStdio\n",
    "from IPython.display import display, Markdown\n",
    "\n",
    "load_dotenv(override=True)"
   ]
  },
  {
   "cell_type": "code",
   "execution_count": 57,
   "metadata": {},
   "outputs": [],
   "source": [
    "# Now let's use our accounts server as an MCP server\n",
    "\n",
    "params = {\"command\": \"/opt/homebrew/bin/uv\", \"args\": [\"run\", \"lineage_aql_server.py\"]}\n",
    "async with MCPServerStdio(params=params, client_session_timeout_seconds=30) as server:\n",
    "    mcp_tools = await server.list_tools()\n"
   ]
  },
  {
   "cell_type": "code",
   "execution_count": null,
   "metadata": {},
   "outputs": [],
   "source": [
    "mcp_tools"
   ]
  },
  {
   "cell_type": "code",
   "execution_count": 58,
   "metadata": {},
   "outputs": [],
   "source": [
    "instructions = \"use sql_lineage_struct to analyze the following sql query: \"\n",
    "request = \"\"\"WITH active_users AS (\n",
    "    SELECT user_id, region_id\n",
    "    FROM users\n",
    "    WHERE is_active = TRUE\n",
    "),\n",
    "\n",
    "valid_orders AS (\n",
    "    SELECT o.order_id, o.user_id, o.order_date, o.total_amount\n",
    "    FROM orders o\n",
    "    INNER JOIN active_users au ON o.user_id = au.user_id\n",
    "    WHERE o.is_valid = TRUE\n",
    "),\n",
    "\n",
    "order_details AS (\n",
    "    SELECT \n",
    "        oi.order_id,\n",
    "        oi.product_id,\n",
    "        oi.quantity,\n",
    "        oi.unit_price,\n",
    "        p.category_id,\n",
    "        c.category_name,\n",
    "        vo.order_date,\n",
    "        vo.total_amount,\n",
    "        au.region_id\n",
    "    FROM order_items oi\n",
    "    INNER JOIN valid_orders vo ON oi.order_id = vo.order_id\n",
    "    INNER JOIN products p ON oi.product_id = p.product_id\n",
    "    INNER JOIN categories c ON p.category_id = c.category_id\n",
    "    INNER JOIN active_users au ON vo.user_id = au.user_id\n",
    "),\n",
    "\n",
    "returns_summary AS (\n",
    "    SELECT \n",
    "        oi.order_id,\n",
    "        COUNT(r.return_id) AS total_returns,\n",
    "        SUM(oi.quantity) AS total_returned_qty\n",
    "    FROM returns r\n",
    "    INNER JOIN order_items oi ON r.order_item_id = oi.order_item_id\n",
    "    GROUP BY oi.order_id\n",
    "),\n",
    "\n",
    "payments_summary AS (\n",
    "    SELECT \n",
    "        o.order_id,\n",
    "        SUM(p.amount) AS total_paid\n",
    "    FROM payments p\n",
    "    INNER JOIN orders o ON p.order_id = o.order_id\n",
    "    WHERE p.payment_date IS NOT NULL\n",
    "    GROUP BY o.order_id\n",
    "),\n",
    "\n",
    "subscription_lifetime_value AS (\n",
    "    SELECT \n",
    "        u.user_id,\n",
    "        SUM(DATEDIFF(COALESCE(s.end_date, CURRENT_DATE), s.start_date)) AS total_days_subscribed\n",
    "    FROM subscriptions s\n",
    "    INNER JOIN users u ON s.user_id = u.user_id\n",
    "    GROUP BY u.user_id\n",
    "),\n",
    "\n",
    "-- Final aggregation\n",
    "monthly_sales_summary AS (\n",
    "    SELECT \n",
    "        DATE_TRUNC('month', od.order_date) AS sale_month,\n",
    "        r.region_name,\n",
    "        od.category_name,\n",
    "        COUNT(DISTINCT od.order_id) AS total_orders,\n",
    "        SUM(od.quantity * od.unit_price) AS gross_revenue,\n",
    "        COALESCE(rs.total_returns, 0) AS items_returned,\n",
    "        COALESCE(ps.total_paid, 0) AS amount_paid,\n",
    "        AVG(slv.total_days_subscribed) AS avg_lifetime_days\n",
    "    FROM order_details od\n",
    "    INNER JOIN regions r ON od.region_id = r.region_id\n",
    "    LEFT JOIN returns_summary rs ON od.order_id = rs.order_id\n",
    "    LEFT JOIN payments_summary ps ON od.order_id = ps.order_id\n",
    "    LEFT JOIN subscription_lifetime_value slv ON od.order_id IN (\n",
    "        SELECT order_id FROM valid_orders WHERE user_id = slv.user_id\n",
    "    )\n",
    "    GROUP BY 1, 2, 3, rs.total_returns, ps.total_paid\n",
    ")\n",
    "\n",
    "-- Final output\n",
    "SELECT * \n",
    "FROM monthly_sales_summary\n",
    "ORDER BY sale_month DESC, region_name, category_name;\n",
    "\"\"\"\n",
    "model = \"gpt-4.1-mini\""
   ]
  },
  {
   "cell_type": "code",
   "execution_count": null,
   "metadata": {},
   "outputs": [],
   "source": [
    "\n",
    "async with MCPServerStdio(params=params, client_session_timeout_seconds=30) as mcp_server:\n",
    "    agent = Agent(name=\"lineage_struct_agent\", instructions=instructions, model=model, mcp_servers=[mcp_server])\n",
    "    with trace(\"lineage_struct_agent\"):\n",
    "        sp = await Runner.run(agent, request)\n",
    "    display(Markdown(sp.final_output))\n"
   ]
  },
  {
   "cell_type": "code",
   "execution_count": 60,
   "metadata": {},
   "outputs": [],
   "source": [
    "import json\n",
    "final_output = json.loads(sp.final_output)\n",
    "sql_parts = [value[\"sql\"] for value in final_output.values() if \"sql\" in value]\n"
   ]
  },
  {
   "cell_type": "code",
   "execution_count": 61,
   "metadata": {},
   "outputs": [],
   "source": [
    "instructions = \"use sql_lineage_field_mapping to analyze the following sub query parts: \"\n",
    "request = sql_parts"
   ]
  },
  {
   "cell_type": "code",
   "execution_count": null,
   "metadata": {},
   "outputs": [],
   "source": [
    "fm=[]\n",
    "async with MCPServerStdio(params=params, client_session_timeout_seconds=30) as mcp_server:\n",
    "    agent = Agent(name=\"lineage_field_mapping_agent\", instructions=instructions, model=model, mcp_servers=[mcp_server])\n",
    "    for sql_part in sql_parts:\n",
    "        with trace(\"lineage_field_mapping_agent\"):\n",
    "            fm_part = await Runner.run(agent, sql_part)\n",
    "        fm.append(fm_part.final_output)\n",
    "print(fm)"
   ]
  },
  {
   "cell_type": "code",
   "execution_count": 63,
   "metadata": {},
   "outputs": [],
   "source": [
    "instructions = \"use sql_lineage_operation_logic to analyze the following sub query parts: \"\n",
    "request= sql_parts\n"
   ]
  },
  {
   "cell_type": "code",
   "execution_count": null,
   "metadata": {},
   "outputs": [],
   "source": [
    "op=[]\n",
    "async with MCPServerStdio(params=params, client_session_timeout_seconds=30) as mcp_server:\n",
    "    agent = Agent(name=\"lineage_operation_logic_agent\", instructions=instructions, model=model, mcp_servers=[mcp_server])\n",
    "    for sql_part in sql_parts:\n",
    "        with trace(\"lineage_operation_logic_agent\"):\n",
    "            op_part = await Runner.run(agent, sql_part)\n",
    "        op.append(op_part.final_output)\n",
    "print(op)"
   ]
  },
  {
   "cell_type": "code",
   "execution_count": null,
   "metadata": {},
   "outputs": [],
   "source": [
    "combined_dict = {\n",
    "    \"Parsed SQL\": sql_parts,\n",
    "    \"Field Mappings\": fm,\n",
    "    \"Logical Operators\": op\n",
    "}\n",
    "\n",
    "# To create a combined string with keys preserved (optional formatting)\n",
    "combined_string = ''\n",
    "for key, lst in combined_dict.items():\n",
    "    combined_string += f\"{key}:\\n\"\n",
    "    combined_string += '\\n'.join(str(item) for item in lst)\n",
    "    combined_string += '\\n\\n'\n",
    "\n",
    "print(combined_string)"
   ]
  },
  {
   "cell_type": "code",
   "execution_count": null,
   "metadata": {},
   "outputs": [],
   "source": [
    "instructions = \"use sql_lineage_aggregate to extract lineage from different source of information you have: \"\n",
    "request = combined_string\n",
    "\n",
    "async with MCPServerStdio(params=params, client_session_timeout_seconds=30) as mcp_server:\n",
    "    agent = Agent(name=\"lineage_aggregate_agent\", instructions=instructions, model=model, mcp_servers=[mcp_server])\n",
    "    with trace(\"lineage_aggregate_agent\"):\n",
    "        agg_output = await Runner.run(agent, request, max_turns=3)\n",
    "    display(Markdown(agg_output.final_output))"
   ]
  },
  {
   "cell_type": "code",
   "execution_count": null,
   "metadata": {},
   "outputs": [],
   "source": []
  },
  {
   "cell_type": "code",
   "execution_count": null,
   "metadata": {},
   "outputs": [],
   "source": []
  },
  {
   "cell_type": "code",
   "execution_count": null,
   "metadata": {},
   "outputs": [],
   "source": []
  }
 ],
 "metadata": {
  "kernelspec": {
   "display_name": ".venv",
   "language": "python",
   "name": "python3"
  },
  "language_info": {
   "codemirror_mode": {
    "name": "ipython",
    "version": 3
   },
   "file_extension": ".py",
   "mimetype": "text/x-python",
   "name": "python",
   "nbconvert_exporter": "python",
   "pygments_lexer": "ipython3",
   "version": "3.13.1"
  }
 },
 "nbformat": 4,
 "nbformat_minor": 2
}
